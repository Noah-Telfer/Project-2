{
 "cells": [
  {
   "cell_type": "code",
   "execution_count": 1,
   "id": "df37f79b",
   "metadata": {},
   "outputs": [],
   "source": [
    "import os \n",
    "import numpy as np\n",
    "import pandas as pd\n",
    "import seaborn as sns\n",
    "import glob\n",
    "from matplotlib import pyplot as plt"
   ]
  },
  {
   "cell_type": "code",
   "execution_count": 2,
   "id": "dad1c13f",
   "metadata": {},
   "outputs": [],
   "source": [
    "wdir = r'C:\\Users\\noaht\\Documents\\Data_Mining\\Project 2'\n",
    "os.chdir(wdir)\n",
    "# get csv files \n",
    "csvFiles = glob.glob(os.path.join(wdir + '\\data', '*.csv'))\n"
   ]
  },
  {
   "cell_type": "code",
   "execution_count": 3,
   "id": "ea8237e8",
   "metadata": {},
   "outputs": [
    {
     "data": {
      "text/html": [
       "<div>\n",
       "<style scoped>\n",
       "    .dataframe tbody tr th:only-of-type {\n",
       "        vertical-align: middle;\n",
       "    }\n",
       "\n",
       "    .dataframe tbody tr th {\n",
       "        vertical-align: top;\n",
       "    }\n",
       "\n",
       "    .dataframe thead th {\n",
       "        text-align: right;\n",
       "    }\n",
       "</style>\n",
       "<table border=\"1\" class=\"dataframe\">\n",
       "  <thead>\n",
       "    <tr style=\"text-align: right;\">\n",
       "      <th></th>\n",
       "      <th>Unnamed: 0</th>\n",
       "      <th>id</th>\n",
       "      <th>Gender</th>\n",
       "      <th>Customer Type</th>\n",
       "      <th>Age</th>\n",
       "      <th>Type of Travel</th>\n",
       "      <th>Class</th>\n",
       "      <th>Flight Distance</th>\n",
       "      <th>Inflight wifi service</th>\n",
       "      <th>Departure/Arrival time convenient</th>\n",
       "      <th>...</th>\n",
       "      <th>Inflight entertainment</th>\n",
       "      <th>On-board service</th>\n",
       "      <th>Leg room service</th>\n",
       "      <th>Baggage handling</th>\n",
       "      <th>Checkin service</th>\n",
       "      <th>Inflight service</th>\n",
       "      <th>Cleanliness</th>\n",
       "      <th>Departure Delay in Minutes</th>\n",
       "      <th>Arrival Delay in Minutes</th>\n",
       "      <th>satisfaction</th>\n",
       "    </tr>\n",
       "  </thead>\n",
       "  <tbody>\n",
       "    <tr>\n",
       "      <th>0</th>\n",
       "      <td>0</td>\n",
       "      <td>19556</td>\n",
       "      <td>Female</td>\n",
       "      <td>Loyal Customer</td>\n",
       "      <td>52</td>\n",
       "      <td>Business travel</td>\n",
       "      <td>Eco</td>\n",
       "      <td>160</td>\n",
       "      <td>5</td>\n",
       "      <td>4</td>\n",
       "      <td>...</td>\n",
       "      <td>5</td>\n",
       "      <td>5</td>\n",
       "      <td>5</td>\n",
       "      <td>5</td>\n",
       "      <td>2</td>\n",
       "      <td>5</td>\n",
       "      <td>5</td>\n",
       "      <td>50</td>\n",
       "      <td>44.0</td>\n",
       "      <td>satisfied</td>\n",
       "    </tr>\n",
       "    <tr>\n",
       "      <th>1</th>\n",
       "      <td>1</td>\n",
       "      <td>90035</td>\n",
       "      <td>Female</td>\n",
       "      <td>Loyal Customer</td>\n",
       "      <td>36</td>\n",
       "      <td>Business travel</td>\n",
       "      <td>Business</td>\n",
       "      <td>2863</td>\n",
       "      <td>1</td>\n",
       "      <td>1</td>\n",
       "      <td>...</td>\n",
       "      <td>4</td>\n",
       "      <td>4</td>\n",
       "      <td>4</td>\n",
       "      <td>4</td>\n",
       "      <td>3</td>\n",
       "      <td>4</td>\n",
       "      <td>5</td>\n",
       "      <td>0</td>\n",
       "      <td>0.0</td>\n",
       "      <td>satisfied</td>\n",
       "    </tr>\n",
       "    <tr>\n",
       "      <th>2</th>\n",
       "      <td>2</td>\n",
       "      <td>12360</td>\n",
       "      <td>Male</td>\n",
       "      <td>disloyal Customer</td>\n",
       "      <td>20</td>\n",
       "      <td>Business travel</td>\n",
       "      <td>Eco</td>\n",
       "      <td>192</td>\n",
       "      <td>2</td>\n",
       "      <td>0</td>\n",
       "      <td>...</td>\n",
       "      <td>2</td>\n",
       "      <td>4</td>\n",
       "      <td>1</td>\n",
       "      <td>3</td>\n",
       "      <td>2</td>\n",
       "      <td>2</td>\n",
       "      <td>2</td>\n",
       "      <td>0</td>\n",
       "      <td>0.0</td>\n",
       "      <td>neutral or dissatisfied</td>\n",
       "    </tr>\n",
       "    <tr>\n",
       "      <th>3</th>\n",
       "      <td>3</td>\n",
       "      <td>77959</td>\n",
       "      <td>Male</td>\n",
       "      <td>Loyal Customer</td>\n",
       "      <td>44</td>\n",
       "      <td>Business travel</td>\n",
       "      <td>Business</td>\n",
       "      <td>3377</td>\n",
       "      <td>0</td>\n",
       "      <td>0</td>\n",
       "      <td>...</td>\n",
       "      <td>1</td>\n",
       "      <td>1</td>\n",
       "      <td>1</td>\n",
       "      <td>1</td>\n",
       "      <td>3</td>\n",
       "      <td>1</td>\n",
       "      <td>4</td>\n",
       "      <td>0</td>\n",
       "      <td>6.0</td>\n",
       "      <td>satisfied</td>\n",
       "    </tr>\n",
       "    <tr>\n",
       "      <th>4</th>\n",
       "      <td>4</td>\n",
       "      <td>36875</td>\n",
       "      <td>Female</td>\n",
       "      <td>Loyal Customer</td>\n",
       "      <td>49</td>\n",
       "      <td>Business travel</td>\n",
       "      <td>Eco</td>\n",
       "      <td>1182</td>\n",
       "      <td>2</td>\n",
       "      <td>3</td>\n",
       "      <td>...</td>\n",
       "      <td>2</td>\n",
       "      <td>2</td>\n",
       "      <td>2</td>\n",
       "      <td>2</td>\n",
       "      <td>4</td>\n",
       "      <td>2</td>\n",
       "      <td>4</td>\n",
       "      <td>0</td>\n",
       "      <td>20.0</td>\n",
       "      <td>satisfied</td>\n",
       "    </tr>\n",
       "    <tr>\n",
       "      <th>5</th>\n",
       "      <td>5</td>\n",
       "      <td>39177</td>\n",
       "      <td>Male</td>\n",
       "      <td>Loyal Customer</td>\n",
       "      <td>16</td>\n",
       "      <td>Business travel</td>\n",
       "      <td>Eco</td>\n",
       "      <td>311</td>\n",
       "      <td>3</td>\n",
       "      <td>3</td>\n",
       "      <td>...</td>\n",
       "      <td>5</td>\n",
       "      <td>4</td>\n",
       "      <td>3</td>\n",
       "      <td>1</td>\n",
       "      <td>1</td>\n",
       "      <td>2</td>\n",
       "      <td>5</td>\n",
       "      <td>0</td>\n",
       "      <td>0.0</td>\n",
       "      <td>satisfied</td>\n",
       "    </tr>\n",
       "    <tr>\n",
       "      <th>6</th>\n",
       "      <td>6</td>\n",
       "      <td>79433</td>\n",
       "      <td>Female</td>\n",
       "      <td>Loyal Customer</td>\n",
       "      <td>77</td>\n",
       "      <td>Business travel</td>\n",
       "      <td>Business</td>\n",
       "      <td>3987</td>\n",
       "      <td>5</td>\n",
       "      <td>5</td>\n",
       "      <td>...</td>\n",
       "      <td>5</td>\n",
       "      <td>5</td>\n",
       "      <td>5</td>\n",
       "      <td>5</td>\n",
       "      <td>4</td>\n",
       "      <td>5</td>\n",
       "      <td>3</td>\n",
       "      <td>0</td>\n",
       "      <td>0.0</td>\n",
       "      <td>satisfied</td>\n",
       "    </tr>\n",
       "    <tr>\n",
       "      <th>7</th>\n",
       "      <td>7</td>\n",
       "      <td>97286</td>\n",
       "      <td>Female</td>\n",
       "      <td>Loyal Customer</td>\n",
       "      <td>43</td>\n",
       "      <td>Business travel</td>\n",
       "      <td>Business</td>\n",
       "      <td>2556</td>\n",
       "      <td>2</td>\n",
       "      <td>2</td>\n",
       "      <td>...</td>\n",
       "      <td>4</td>\n",
       "      <td>4</td>\n",
       "      <td>4</td>\n",
       "      <td>4</td>\n",
       "      <td>5</td>\n",
       "      <td>4</td>\n",
       "      <td>3</td>\n",
       "      <td>77</td>\n",
       "      <td>65.0</td>\n",
       "      <td>satisfied</td>\n",
       "    </tr>\n",
       "    <tr>\n",
       "      <th>8</th>\n",
       "      <td>8</td>\n",
       "      <td>27508</td>\n",
       "      <td>Male</td>\n",
       "      <td>Loyal Customer</td>\n",
       "      <td>47</td>\n",
       "      <td>Business travel</td>\n",
       "      <td>Eco</td>\n",
       "      <td>556</td>\n",
       "      <td>5</td>\n",
       "      <td>2</td>\n",
       "      <td>...</td>\n",
       "      <td>5</td>\n",
       "      <td>2</td>\n",
       "      <td>2</td>\n",
       "      <td>5</td>\n",
       "      <td>3</td>\n",
       "      <td>3</td>\n",
       "      <td>5</td>\n",
       "      <td>1</td>\n",
       "      <td>0.0</td>\n",
       "      <td>satisfied</td>\n",
       "    </tr>\n",
       "    <tr>\n",
       "      <th>9</th>\n",
       "      <td>9</td>\n",
       "      <td>62482</td>\n",
       "      <td>Female</td>\n",
       "      <td>Loyal Customer</td>\n",
       "      <td>46</td>\n",
       "      <td>Business travel</td>\n",
       "      <td>Business</td>\n",
       "      <td>1744</td>\n",
       "      <td>2</td>\n",
       "      <td>2</td>\n",
       "      <td>...</td>\n",
       "      <td>4</td>\n",
       "      <td>4</td>\n",
       "      <td>4</td>\n",
       "      <td>4</td>\n",
       "      <td>5</td>\n",
       "      <td>4</td>\n",
       "      <td>4</td>\n",
       "      <td>28</td>\n",
       "      <td>14.0</td>\n",
       "      <td>satisfied</td>\n",
       "    </tr>\n",
       "    <tr>\n",
       "      <th>10</th>\n",
       "      <td>10</td>\n",
       "      <td>47583</td>\n",
       "      <td>Female</td>\n",
       "      <td>Loyal Customer</td>\n",
       "      <td>47</td>\n",
       "      <td>Business travel</td>\n",
       "      <td>Eco</td>\n",
       "      <td>1235</td>\n",
       "      <td>4</td>\n",
       "      <td>1</td>\n",
       "      <td>...</td>\n",
       "      <td>3</td>\n",
       "      <td>3</td>\n",
       "      <td>4</td>\n",
       "      <td>3</td>\n",
       "      <td>1</td>\n",
       "      <td>3</td>\n",
       "      <td>4</td>\n",
       "      <td>29</td>\n",
       "      <td>19.0</td>\n",
       "      <td>satisfied</td>\n",
       "    </tr>\n",
       "    <tr>\n",
       "      <th>11</th>\n",
       "      <td>11</td>\n",
       "      <td>115550</td>\n",
       "      <td>Female</td>\n",
       "      <td>Loyal Customer</td>\n",
       "      <td>33</td>\n",
       "      <td>Business travel</td>\n",
       "      <td>Business</td>\n",
       "      <td>325</td>\n",
       "      <td>2</td>\n",
       "      <td>5</td>\n",
       "      <td>...</td>\n",
       "      <td>2</td>\n",
       "      <td>2</td>\n",
       "      <td>2</td>\n",
       "      <td>2</td>\n",
       "      <td>3</td>\n",
       "      <td>2</td>\n",
       "      <td>4</td>\n",
       "      <td>18</td>\n",
       "      <td>7.0</td>\n",
       "      <td>neutral or dissatisfied</td>\n",
       "    </tr>\n",
       "    <tr>\n",
       "      <th>12</th>\n",
       "      <td>12</td>\n",
       "      <td>119987</td>\n",
       "      <td>Female</td>\n",
       "      <td>Loyal Customer</td>\n",
       "      <td>46</td>\n",
       "      <td>Business travel</td>\n",
       "      <td>Business</td>\n",
       "      <td>1009</td>\n",
       "      <td>5</td>\n",
       "      <td>5</td>\n",
       "      <td>...</td>\n",
       "      <td>5</td>\n",
       "      <td>5</td>\n",
       "      <td>5</td>\n",
       "      <td>5</td>\n",
       "      <td>5</td>\n",
       "      <td>5</td>\n",
       "      <td>3</td>\n",
       "      <td>0</td>\n",
       "      <td>0.0</td>\n",
       "      <td>satisfied</td>\n",
       "    </tr>\n",
       "    <tr>\n",
       "      <th>13</th>\n",
       "      <td>13</td>\n",
       "      <td>42141</td>\n",
       "      <td>Female</td>\n",
       "      <td>Loyal Customer</td>\n",
       "      <td>60</td>\n",
       "      <td>Business travel</td>\n",
       "      <td>Business</td>\n",
       "      <td>451</td>\n",
       "      <td>1</td>\n",
       "      <td>1</td>\n",
       "      <td>...</td>\n",
       "      <td>5</td>\n",
       "      <td>5</td>\n",
       "      <td>5</td>\n",
       "      <td>5</td>\n",
       "      <td>3</td>\n",
       "      <td>5</td>\n",
       "      <td>5</td>\n",
       "      <td>117</td>\n",
       "      <td>113.0</td>\n",
       "      <td>satisfied</td>\n",
       "    </tr>\n",
       "    <tr>\n",
       "      <th>14</th>\n",
       "      <td>14</td>\n",
       "      <td>2274</td>\n",
       "      <td>Female</td>\n",
       "      <td>Loyal Customer</td>\n",
       "      <td>52</td>\n",
       "      <td>Business travel</td>\n",
       "      <td>Business</td>\n",
       "      <td>925</td>\n",
       "      <td>2</td>\n",
       "      <td>2</td>\n",
       "      <td>...</td>\n",
       "      <td>4</td>\n",
       "      <td>4</td>\n",
       "      <td>4</td>\n",
       "      <td>4</td>\n",
       "      <td>3</td>\n",
       "      <td>4</td>\n",
       "      <td>5</td>\n",
       "      <td>10</td>\n",
       "      <td>0.0</td>\n",
       "      <td>satisfied</td>\n",
       "    </tr>\n",
       "    <tr>\n",
       "      <th>15</th>\n",
       "      <td>15</td>\n",
       "      <td>22470</td>\n",
       "      <td>Male</td>\n",
       "      <td>Loyal Customer</td>\n",
       "      <td>50</td>\n",
       "      <td>Personal Travel</td>\n",
       "      <td>Eco</td>\n",
       "      <td>83</td>\n",
       "      <td>3</td>\n",
       "      <td>4</td>\n",
       "      <td>...</td>\n",
       "      <td>2</td>\n",
       "      <td>4</td>\n",
       "      <td>2</td>\n",
       "      <td>4</td>\n",
       "      <td>4</td>\n",
       "      <td>5</td>\n",
       "      <td>2</td>\n",
       "      <td>5</td>\n",
       "      <td>2.0</td>\n",
       "      <td>neutral or dissatisfied</td>\n",
       "    </tr>\n",
       "    <tr>\n",
       "      <th>16</th>\n",
       "      <td>16</td>\n",
       "      <td>124915</td>\n",
       "      <td>Female</td>\n",
       "      <td>Loyal Customer</td>\n",
       "      <td>31</td>\n",
       "      <td>Business travel</td>\n",
       "      <td>Eco</td>\n",
       "      <td>728</td>\n",
       "      <td>2</td>\n",
       "      <td>5</td>\n",
       "      <td>...</td>\n",
       "      <td>2</td>\n",
       "      <td>4</td>\n",
       "      <td>3</td>\n",
       "      <td>3</td>\n",
       "      <td>4</td>\n",
       "      <td>3</td>\n",
       "      <td>2</td>\n",
       "      <td>2</td>\n",
       "      <td>0.0</td>\n",
       "      <td>neutral or dissatisfied</td>\n",
       "    </tr>\n",
       "    <tr>\n",
       "      <th>17</th>\n",
       "      <td>17</td>\n",
       "      <td>17836</td>\n",
       "      <td>Male</td>\n",
       "      <td>Loyal Customer</td>\n",
       "      <td>52</td>\n",
       "      <td>Personal Travel</td>\n",
       "      <td>Eco Plus</td>\n",
       "      <td>1075</td>\n",
       "      <td>5</td>\n",
       "      <td>4</td>\n",
       "      <td>...</td>\n",
       "      <td>4</td>\n",
       "      <td>3</td>\n",
       "      <td>5</td>\n",
       "      <td>5</td>\n",
       "      <td>4</td>\n",
       "      <td>5</td>\n",
       "      <td>4</td>\n",
       "      <td>0</td>\n",
       "      <td>0.0</td>\n",
       "      <td>satisfied</td>\n",
       "    </tr>\n",
       "    <tr>\n",
       "      <th>18</th>\n",
       "      <td>18</td>\n",
       "      <td>76872</td>\n",
       "      <td>Female</td>\n",
       "      <td>Loyal Customer</td>\n",
       "      <td>43</td>\n",
       "      <td>Personal Travel</td>\n",
       "      <td>Eco</td>\n",
       "      <td>1927</td>\n",
       "      <td>3</td>\n",
       "      <td>4</td>\n",
       "      <td>...</td>\n",
       "      <td>5</td>\n",
       "      <td>5</td>\n",
       "      <td>3</td>\n",
       "      <td>5</td>\n",
       "      <td>4</td>\n",
       "      <td>5</td>\n",
       "      <td>3</td>\n",
       "      <td>0</td>\n",
       "      <td>0.0</td>\n",
       "      <td>neutral or dissatisfied</td>\n",
       "    </tr>\n",
       "    <tr>\n",
       "      <th>19</th>\n",
       "      <td>19</td>\n",
       "      <td>64287</td>\n",
       "      <td>Female</td>\n",
       "      <td>Loyal Customer</td>\n",
       "      <td>50</td>\n",
       "      <td>Business travel</td>\n",
       "      <td>Business</td>\n",
       "      <td>3799</td>\n",
       "      <td>5</td>\n",
       "      <td>5</td>\n",
       "      <td>...</td>\n",
       "      <td>4</td>\n",
       "      <td>4</td>\n",
       "      <td>5</td>\n",
       "      <td>4</td>\n",
       "      <td>5</td>\n",
       "      <td>4</td>\n",
       "      <td>5</td>\n",
       "      <td>8</td>\n",
       "      <td>0.0</td>\n",
       "      <td>satisfied</td>\n",
       "    </tr>\n",
       "    <tr>\n",
       "      <th>20</th>\n",
       "      <td>20</td>\n",
       "      <td>63995</td>\n",
       "      <td>Male</td>\n",
       "      <td>Loyal Customer</td>\n",
       "      <td>60</td>\n",
       "      <td>Business travel</td>\n",
       "      <td>Business</td>\n",
       "      <td>612</td>\n",
       "      <td>4</td>\n",
       "      <td>4</td>\n",
       "      <td>...</td>\n",
       "      <td>5</td>\n",
       "      <td>5</td>\n",
       "      <td>5</td>\n",
       "      <td>5</td>\n",
       "      <td>5</td>\n",
       "      <td>5</td>\n",
       "      <td>5</td>\n",
       "      <td>21</td>\n",
       "      <td>49.0</td>\n",
       "      <td>satisfied</td>\n",
       "    </tr>\n",
       "    <tr>\n",
       "      <th>21</th>\n",
       "      <td>21</td>\n",
       "      <td>75855</td>\n",
       "      <td>Male</td>\n",
       "      <td>Loyal Customer</td>\n",
       "      <td>43</td>\n",
       "      <td>Personal Travel</td>\n",
       "      <td>Eco</td>\n",
       "      <td>1437</td>\n",
       "      <td>3</td>\n",
       "      <td>4</td>\n",
       "      <td>...</td>\n",
       "      <td>2</td>\n",
       "      <td>4</td>\n",
       "      <td>2</td>\n",
       "      <td>4</td>\n",
       "      <td>4</td>\n",
       "      <td>5</td>\n",
       "      <td>2</td>\n",
       "      <td>0</td>\n",
       "      <td>0.0</td>\n",
       "      <td>neutral or dissatisfied</td>\n",
       "    </tr>\n",
       "    <tr>\n",
       "      <th>22</th>\n",
       "      <td>22</td>\n",
       "      <td>106181</td>\n",
       "      <td>Male</td>\n",
       "      <td>Loyal Customer</td>\n",
       "      <td>55</td>\n",
       "      <td>Personal Travel</td>\n",
       "      <td>Eco</td>\n",
       "      <td>302</td>\n",
       "      <td>1</td>\n",
       "      <td>2</td>\n",
       "      <td>...</td>\n",
       "      <td>4</td>\n",
       "      <td>1</td>\n",
       "      <td>3</td>\n",
       "      <td>2</td>\n",
       "      <td>4</td>\n",
       "      <td>3</td>\n",
       "      <td>4</td>\n",
       "      <td>0</td>\n",
       "      <td>0.0</td>\n",
       "      <td>neutral or dissatisfied</td>\n",
       "    </tr>\n",
       "    <tr>\n",
       "      <th>23</th>\n",
       "      <td>23</td>\n",
       "      <td>44304</td>\n",
       "      <td>Male</td>\n",
       "      <td>Loyal Customer</td>\n",
       "      <td>25</td>\n",
       "      <td>Business travel</td>\n",
       "      <td>Business</td>\n",
       "      <td>1428</td>\n",
       "      <td>4</td>\n",
       "      <td>4</td>\n",
       "      <td>...</td>\n",
       "      <td>4</td>\n",
       "      <td>1</td>\n",
       "      <td>5</td>\n",
       "      <td>3</td>\n",
       "      <td>1</td>\n",
       "      <td>5</td>\n",
       "      <td>4</td>\n",
       "      <td>0</td>\n",
       "      <td>0.0</td>\n",
       "      <td>satisfied</td>\n",
       "    </tr>\n",
       "    <tr>\n",
       "      <th>24</th>\n",
       "      <td>24</td>\n",
       "      <td>82602</td>\n",
       "      <td>Female</td>\n",
       "      <td>disloyal Customer</td>\n",
       "      <td>30</td>\n",
       "      <td>Business travel</td>\n",
       "      <td>Eco</td>\n",
       "      <td>528</td>\n",
       "      <td>4</td>\n",
       "      <td>3</td>\n",
       "      <td>...</td>\n",
       "      <td>2</td>\n",
       "      <td>3</td>\n",
       "      <td>2</td>\n",
       "      <td>3</td>\n",
       "      <td>4</td>\n",
       "      <td>4</td>\n",
       "      <td>2</td>\n",
       "      <td>0</td>\n",
       "      <td>0.0</td>\n",
       "      <td>neutral or dissatisfied</td>\n",
       "    </tr>\n",
       "  </tbody>\n",
       "</table>\n",
       "<p>25 rows × 25 columns</p>\n",
       "</div>"
      ],
      "text/plain": [
       "    Unnamed: 0      id  Gender      Customer Type  Age   Type of Travel  \\\n",
       "0            0   19556  Female     Loyal Customer   52  Business travel   \n",
       "1            1   90035  Female     Loyal Customer   36  Business travel   \n",
       "2            2   12360    Male  disloyal Customer   20  Business travel   \n",
       "3            3   77959    Male     Loyal Customer   44  Business travel   \n",
       "4            4   36875  Female     Loyal Customer   49  Business travel   \n",
       "5            5   39177    Male     Loyal Customer   16  Business travel   \n",
       "6            6   79433  Female     Loyal Customer   77  Business travel   \n",
       "7            7   97286  Female     Loyal Customer   43  Business travel   \n",
       "8            8   27508    Male     Loyal Customer   47  Business travel   \n",
       "9            9   62482  Female     Loyal Customer   46  Business travel   \n",
       "10          10   47583  Female     Loyal Customer   47  Business travel   \n",
       "11          11  115550  Female     Loyal Customer   33  Business travel   \n",
       "12          12  119987  Female     Loyal Customer   46  Business travel   \n",
       "13          13   42141  Female     Loyal Customer   60  Business travel   \n",
       "14          14    2274  Female     Loyal Customer   52  Business travel   \n",
       "15          15   22470    Male     Loyal Customer   50  Personal Travel   \n",
       "16          16  124915  Female     Loyal Customer   31  Business travel   \n",
       "17          17   17836    Male     Loyal Customer   52  Personal Travel   \n",
       "18          18   76872  Female     Loyal Customer   43  Personal Travel   \n",
       "19          19   64287  Female     Loyal Customer   50  Business travel   \n",
       "20          20   63995    Male     Loyal Customer   60  Business travel   \n",
       "21          21   75855    Male     Loyal Customer   43  Personal Travel   \n",
       "22          22  106181    Male     Loyal Customer   55  Personal Travel   \n",
       "23          23   44304    Male     Loyal Customer   25  Business travel   \n",
       "24          24   82602  Female  disloyal Customer   30  Business travel   \n",
       "\n",
       "       Class  Flight Distance  Inflight wifi service  \\\n",
       "0        Eco              160                      5   \n",
       "1   Business             2863                      1   \n",
       "2        Eco              192                      2   \n",
       "3   Business             3377                      0   \n",
       "4        Eco             1182                      2   \n",
       "5        Eco              311                      3   \n",
       "6   Business             3987                      5   \n",
       "7   Business             2556                      2   \n",
       "8        Eco              556                      5   \n",
       "9   Business             1744                      2   \n",
       "10       Eco             1235                      4   \n",
       "11  Business              325                      2   \n",
       "12  Business             1009                      5   \n",
       "13  Business              451                      1   \n",
       "14  Business              925                      2   \n",
       "15       Eco               83                      3   \n",
       "16       Eco              728                      2   \n",
       "17  Eco Plus             1075                      5   \n",
       "18       Eco             1927                      3   \n",
       "19  Business             3799                      5   \n",
       "20  Business              612                      4   \n",
       "21       Eco             1437                      3   \n",
       "22       Eco              302                      1   \n",
       "23  Business             1428                      4   \n",
       "24       Eco              528                      4   \n",
       "\n",
       "    Departure/Arrival time convenient  ...  Inflight entertainment  \\\n",
       "0                                   4  ...                       5   \n",
       "1                                   1  ...                       4   \n",
       "2                                   0  ...                       2   \n",
       "3                                   0  ...                       1   \n",
       "4                                   3  ...                       2   \n",
       "5                                   3  ...                       5   \n",
       "6                                   5  ...                       5   \n",
       "7                                   2  ...                       4   \n",
       "8                                   2  ...                       5   \n",
       "9                                   2  ...                       4   \n",
       "10                                  1  ...                       3   \n",
       "11                                  5  ...                       2   \n",
       "12                                  5  ...                       5   \n",
       "13                                  1  ...                       5   \n",
       "14                                  2  ...                       4   \n",
       "15                                  4  ...                       2   \n",
       "16                                  5  ...                       2   \n",
       "17                                  4  ...                       4   \n",
       "18                                  4  ...                       5   \n",
       "19                                  5  ...                       4   \n",
       "20                                  4  ...                       5   \n",
       "21                                  4  ...                       2   \n",
       "22                                  2  ...                       4   \n",
       "23                                  4  ...                       4   \n",
       "24                                  3  ...                       2   \n",
       "\n",
       "    On-board service  Leg room service  Baggage handling  Checkin service  \\\n",
       "0                  5                 5                 5                2   \n",
       "1                  4                 4                 4                3   \n",
       "2                  4                 1                 3                2   \n",
       "3                  1                 1                 1                3   \n",
       "4                  2                 2                 2                4   \n",
       "5                  4                 3                 1                1   \n",
       "6                  5                 5                 5                4   \n",
       "7                  4                 4                 4                5   \n",
       "8                  2                 2                 5                3   \n",
       "9                  4                 4                 4                5   \n",
       "10                 3                 4                 3                1   \n",
       "11                 2                 2                 2                3   \n",
       "12                 5                 5                 5                5   \n",
       "13                 5                 5                 5                3   \n",
       "14                 4                 4                 4                3   \n",
       "15                 4                 2                 4                4   \n",
       "16                 4                 3                 3                4   \n",
       "17                 3                 5                 5                4   \n",
       "18                 5                 3                 5                4   \n",
       "19                 4                 5                 4                5   \n",
       "20                 5                 5                 5                5   \n",
       "21                 4                 2                 4                4   \n",
       "22                 1                 3                 2                4   \n",
       "23                 1                 5                 3                1   \n",
       "24                 3                 2                 3                4   \n",
       "\n",
       "    Inflight service  Cleanliness  Departure Delay in Minutes  \\\n",
       "0                  5            5                          50   \n",
       "1                  4            5                           0   \n",
       "2                  2            2                           0   \n",
       "3                  1            4                           0   \n",
       "4                  2            4                           0   \n",
       "5                  2            5                           0   \n",
       "6                  5            3                           0   \n",
       "7                  4            3                          77   \n",
       "8                  3            5                           1   \n",
       "9                  4            4                          28   \n",
       "10                 3            4                          29   \n",
       "11                 2            4                          18   \n",
       "12                 5            3                           0   \n",
       "13                 5            5                         117   \n",
       "14                 4            5                          10   \n",
       "15                 5            2                           5   \n",
       "16                 3            2                           2   \n",
       "17                 5            4                           0   \n",
       "18                 5            3                           0   \n",
       "19                 4            5                           8   \n",
       "20                 5            5                          21   \n",
       "21                 5            2                           0   \n",
       "22                 3            4                           0   \n",
       "23                 5            4                           0   \n",
       "24                 4            2                           0   \n",
       "\n",
       "    Arrival Delay in Minutes             satisfaction  \n",
       "0                       44.0                satisfied  \n",
       "1                        0.0                satisfied  \n",
       "2                        0.0  neutral or dissatisfied  \n",
       "3                        6.0                satisfied  \n",
       "4                       20.0                satisfied  \n",
       "5                        0.0                satisfied  \n",
       "6                        0.0                satisfied  \n",
       "7                       65.0                satisfied  \n",
       "8                        0.0                satisfied  \n",
       "9                       14.0                satisfied  \n",
       "10                      19.0                satisfied  \n",
       "11                       7.0  neutral or dissatisfied  \n",
       "12                       0.0                satisfied  \n",
       "13                     113.0                satisfied  \n",
       "14                       0.0                satisfied  \n",
       "15                       2.0  neutral or dissatisfied  \n",
       "16                       0.0  neutral or dissatisfied  \n",
       "17                       0.0                satisfied  \n",
       "18                       0.0  neutral or dissatisfied  \n",
       "19                       0.0                satisfied  \n",
       "20                      49.0                satisfied  \n",
       "21                       0.0  neutral or dissatisfied  \n",
       "22                       0.0  neutral or dissatisfied  \n",
       "23                       0.0                satisfied  \n",
       "24                       0.0  neutral or dissatisfied  \n",
       "\n",
       "[25 rows x 25 columns]"
      ]
     },
     "execution_count": 3,
     "metadata": {},
     "output_type": "execute_result"
    }
   ],
   "source": [
    "# turn csv into dataFrame \n",
    "df = pd.DataFrame()\n",
    "for file in csvFiles:\n",
    "    df = df.append(pd.read_csv(file))\n",
    "\n",
    "df.head(25)"
   ]
  },
  {
   "cell_type": "code",
   "execution_count": 46,
   "id": "2df2188e",
   "metadata": {},
   "outputs": [
    {
     "data": {
      "text/plain": [
       "(129880, 25)"
      ]
     },
     "execution_count": 46,
     "metadata": {},
     "output_type": "execute_result"
    }
   ],
   "source": [
    "df.shape"
   ]
  },
  {
   "cell_type": "code",
   "execution_count": 4,
   "id": "28f68dd2",
   "metadata": {},
   "outputs": [
    {
     "name": "stdout",
     "output_type": "stream",
     "text": [
      "(129880, 25)\n",
      "Unnamed: 0                             int64\n",
      "id                                     int64\n",
      "Gender                                object\n",
      "Customer Type                         object\n",
      "Age                                    int64\n",
      "Type of Travel                        object\n",
      "Class                                 object\n",
      "Flight Distance                        int64\n",
      "Inflight wifi service                  int64\n",
      "Departure/Arrival time convenient      int64\n",
      "Ease of Online booking                 int64\n",
      "Gate location                          int64\n",
      "Food and drink                         int64\n",
      "Online boarding                        int64\n",
      "Seat comfort                           int64\n",
      "Inflight entertainment                 int64\n",
      "On-board service                       int64\n",
      "Leg room service                       int64\n",
      "Baggage handling                       int64\n",
      "Checkin service                        int64\n",
      "Inflight service                       int64\n",
      "Cleanliness                            int64\n",
      "Departure Delay in Minutes             int64\n",
      "Arrival Delay in Minutes             float64\n",
      "satisfaction                          object\n",
      "dtype: object\n",
      "Unnamed: 0                             0\n",
      "id                                     0\n",
      "Gender                                 0\n",
      "Customer Type                          0\n",
      "Age                                    0\n",
      "Type of Travel                         0\n",
      "Class                                  0\n",
      "Flight Distance                        0\n",
      "Inflight wifi service                  0\n",
      "Departure/Arrival time convenient      0\n",
      "Ease of Online booking                 0\n",
      "Gate location                          0\n",
      "Food and drink                         0\n",
      "Online boarding                        0\n",
      "Seat comfort                           0\n",
      "Inflight entertainment                 0\n",
      "On-board service                       0\n",
      "Leg room service                       0\n",
      "Baggage handling                       0\n",
      "Checkin service                        0\n",
      "Inflight service                       0\n",
      "Cleanliness                            0\n",
      "Departure Delay in Minutes             0\n",
      "Arrival Delay in Minutes             393\n",
      "satisfaction                           0\n",
      "dtype: int64\n"
     ]
    }
   ],
   "source": [
    "#the data set if fairly large\n",
    "print(df.shape)\n",
    "print(df.dtypes)\n",
    "print(df.isna().sum())"
   ]
  },
  {
   "cell_type": "code",
   "execution_count": 5,
   "id": "3516af52",
   "metadata": {},
   "outputs": [
    {
     "name": "stdout",
     "output_type": "stream",
     "text": [
      "Unnamed: 0                           0\n",
      "id                                   0\n",
      "Gender                               0\n",
      "Customer Type                        0\n",
      "Age                                  0\n",
      "Type of Travel                       0\n",
      "Class                                0\n",
      "Flight Distance                      0\n",
      "Inflight wifi service                0\n",
      "Departure/Arrival time convenient    0\n",
      "Ease of Online booking               0\n",
      "Gate location                        0\n",
      "Food and drink                       0\n",
      "Online boarding                      0\n",
      "Seat comfort                         0\n",
      "Inflight entertainment               0\n",
      "On-board service                     0\n",
      "Leg room service                     0\n",
      "Baggage handling                     0\n",
      "Checkin service                      0\n",
      "Inflight service                     0\n",
      "Cleanliness                          0\n",
      "Departure Delay in Minutes           0\n",
      "Arrival Delay in Minutes             0\n",
      "satisfaction                         0\n",
      "dtype: int64\n",
      "(129487, 25)\n"
     ]
    },
    {
     "name": "stderr",
     "output_type": "stream",
     "text": [
      "C:\\Users\\noaht\\AppData\\Local\\Temp/ipykernel_14036/1543603544.py:2: FutureWarning: In a future version of pandas all arguments of DataFrame.dropna will be keyword-only\n",
      "  satData = df.dropna(0,'any')\n"
     ]
    }
   ],
   "source": [
    "#Drop null valued data frames beacause theres so little of them \n",
    "satData = df.dropna(0,'any')\n",
    "print(satData.isna().sum())\n",
    "print(satData.shape)"
   ]
  },
  {
   "cell_type": "code",
   "execution_count": 6,
   "id": "66ab4198",
   "metadata": {},
   "outputs": [],
   "source": [
    "def getRidOfZeros(labels,df ):\n",
    "    \n",
    "    for label in labels: \n",
    "        df = df[(df[label]!= 0)]\n",
    "    return df\n",
    "\n"
   ]
  },
  {
   "cell_type": "code",
   "execution_count": 7,
   "id": "1d3ef5e1",
   "metadata": {},
   "outputs": [
    {
     "name": "stdout",
     "output_type": "stream",
     "text": [
      "(129487, 25)\n",
      "(119204, 25)\n"
     ]
    }
   ],
   "source": [
    "print(satData.shape)\n",
    "desired_columns = satData.columns\n",
    "desired_col = list(desired_columns[8:-3])\n",
    "satData = getRidOfZeros(desired_col,satData) \n",
    "\n",
    "print(satData.shape)\n"
   ]
  },
  {
   "cell_type": "code",
   "execution_count": 8,
   "id": "1f597d11",
   "metadata": {},
   "outputs": [
    {
     "name": "stdout",
     "output_type": "stream",
     "text": [
      "(119204, 25)\n"
     ]
    }
   ],
   "source": [
    "# replace class string with int (0 or 1)\n",
    "replace = {'satisfaction': {'satisfied' : 1, 'neutral or dissatisfied': 0}}\n",
    "satData = satData.replace(replace)\n",
    "#note 1 = satisfied, 0 = neutral or dissatisfied \n",
    "print(satData.shape)\n"
   ]
  },
  {
   "cell_type": "code",
   "execution_count": 9,
   "id": "5feb35da",
   "metadata": {},
   "outputs": [
    {
     "data": {
      "text/html": [
       "<div>\n",
       "<style scoped>\n",
       "    .dataframe tbody tr th:only-of-type {\n",
       "        vertical-align: middle;\n",
       "    }\n",
       "\n",
       "    .dataframe tbody tr th {\n",
       "        vertical-align: top;\n",
       "    }\n",
       "\n",
       "    .dataframe thead th {\n",
       "        text-align: right;\n",
       "    }\n",
       "</style>\n",
       "<table border=\"1\" class=\"dataframe\">\n",
       "  <thead>\n",
       "    <tr style=\"text-align: right;\">\n",
       "      <th></th>\n",
       "      <th>Unnamed: 0</th>\n",
       "      <th>id</th>\n",
       "      <th>Gender</th>\n",
       "      <th>Customer Type</th>\n",
       "      <th>Age</th>\n",
       "      <th>Type of Travel</th>\n",
       "      <th>Class</th>\n",
       "      <th>Flight Distance</th>\n",
       "      <th>Inflight wifi service</th>\n",
       "      <th>Departure/Arrival time convenient</th>\n",
       "      <th>...</th>\n",
       "      <th>Inflight entertainment</th>\n",
       "      <th>On-board service</th>\n",
       "      <th>Leg room service</th>\n",
       "      <th>Baggage handling</th>\n",
       "      <th>Checkin service</th>\n",
       "      <th>Inflight service</th>\n",
       "      <th>Cleanliness</th>\n",
       "      <th>Departure Delay in Minutes</th>\n",
       "      <th>Arrival Delay in Minutes</th>\n",
       "      <th>satisfaction</th>\n",
       "    </tr>\n",
       "  </thead>\n",
       "  <tbody>\n",
       "    <tr>\n",
       "      <th>0</th>\n",
       "      <td>0</td>\n",
       "      <td>19556</td>\n",
       "      <td>Female</td>\n",
       "      <td>Loyal Customer</td>\n",
       "      <td>52</td>\n",
       "      <td>Business travel</td>\n",
       "      <td>Eco</td>\n",
       "      <td>160</td>\n",
       "      <td>5</td>\n",
       "      <td>4</td>\n",
       "      <td>...</td>\n",
       "      <td>5</td>\n",
       "      <td>5</td>\n",
       "      <td>5</td>\n",
       "      <td>5</td>\n",
       "      <td>2</td>\n",
       "      <td>5</td>\n",
       "      <td>5</td>\n",
       "      <td>50</td>\n",
       "      <td>44.0</td>\n",
       "      <td>1</td>\n",
       "    </tr>\n",
       "    <tr>\n",
       "      <th>1</th>\n",
       "      <td>1</td>\n",
       "      <td>90035</td>\n",
       "      <td>Female</td>\n",
       "      <td>Loyal Customer</td>\n",
       "      <td>36</td>\n",
       "      <td>Business travel</td>\n",
       "      <td>Business</td>\n",
       "      <td>2863</td>\n",
       "      <td>1</td>\n",
       "      <td>1</td>\n",
       "      <td>...</td>\n",
       "      <td>4</td>\n",
       "      <td>4</td>\n",
       "      <td>4</td>\n",
       "      <td>4</td>\n",
       "      <td>3</td>\n",
       "      <td>4</td>\n",
       "      <td>5</td>\n",
       "      <td>0</td>\n",
       "      <td>0.0</td>\n",
       "      <td>1</td>\n",
       "    </tr>\n",
       "    <tr>\n",
       "      <th>4</th>\n",
       "      <td>4</td>\n",
       "      <td>36875</td>\n",
       "      <td>Female</td>\n",
       "      <td>Loyal Customer</td>\n",
       "      <td>49</td>\n",
       "      <td>Business travel</td>\n",
       "      <td>Eco</td>\n",
       "      <td>1182</td>\n",
       "      <td>2</td>\n",
       "      <td>3</td>\n",
       "      <td>...</td>\n",
       "      <td>2</td>\n",
       "      <td>2</td>\n",
       "      <td>2</td>\n",
       "      <td>2</td>\n",
       "      <td>4</td>\n",
       "      <td>2</td>\n",
       "      <td>4</td>\n",
       "      <td>0</td>\n",
       "      <td>20.0</td>\n",
       "      <td>1</td>\n",
       "    </tr>\n",
       "    <tr>\n",
       "      <th>5</th>\n",
       "      <td>5</td>\n",
       "      <td>39177</td>\n",
       "      <td>Male</td>\n",
       "      <td>Loyal Customer</td>\n",
       "      <td>16</td>\n",
       "      <td>Business travel</td>\n",
       "      <td>Eco</td>\n",
       "      <td>311</td>\n",
       "      <td>3</td>\n",
       "      <td>3</td>\n",
       "      <td>...</td>\n",
       "      <td>5</td>\n",
       "      <td>4</td>\n",
       "      <td>3</td>\n",
       "      <td>1</td>\n",
       "      <td>1</td>\n",
       "      <td>2</td>\n",
       "      <td>5</td>\n",
       "      <td>0</td>\n",
       "      <td>0.0</td>\n",
       "      <td>1</td>\n",
       "    </tr>\n",
       "    <tr>\n",
       "      <th>6</th>\n",
       "      <td>6</td>\n",
       "      <td>79433</td>\n",
       "      <td>Female</td>\n",
       "      <td>Loyal Customer</td>\n",
       "      <td>77</td>\n",
       "      <td>Business travel</td>\n",
       "      <td>Business</td>\n",
       "      <td>3987</td>\n",
       "      <td>5</td>\n",
       "      <td>5</td>\n",
       "      <td>...</td>\n",
       "      <td>5</td>\n",
       "      <td>5</td>\n",
       "      <td>5</td>\n",
       "      <td>5</td>\n",
       "      <td>4</td>\n",
       "      <td>5</td>\n",
       "      <td>3</td>\n",
       "      <td>0</td>\n",
       "      <td>0.0</td>\n",
       "      <td>1</td>\n",
       "    </tr>\n",
       "  </tbody>\n",
       "</table>\n",
       "<p>5 rows × 25 columns</p>\n",
       "</div>"
      ],
      "text/plain": [
       "   Unnamed: 0     id  Gender   Customer Type  Age   Type of Travel     Class  \\\n",
       "0           0  19556  Female  Loyal Customer   52  Business travel       Eco   \n",
       "1           1  90035  Female  Loyal Customer   36  Business travel  Business   \n",
       "4           4  36875  Female  Loyal Customer   49  Business travel       Eco   \n",
       "5           5  39177    Male  Loyal Customer   16  Business travel       Eco   \n",
       "6           6  79433  Female  Loyal Customer   77  Business travel  Business   \n",
       "\n",
       "   Flight Distance  Inflight wifi service  Departure/Arrival time convenient  \\\n",
       "0              160                      5                                  4   \n",
       "1             2863                      1                                  1   \n",
       "4             1182                      2                                  3   \n",
       "5              311                      3                                  3   \n",
       "6             3987                      5                                  5   \n",
       "\n",
       "   ...  Inflight entertainment  On-board service  Leg room service  \\\n",
       "0  ...                       5                 5                 5   \n",
       "1  ...                       4                 4                 4   \n",
       "4  ...                       2                 2                 2   \n",
       "5  ...                       5                 4                 3   \n",
       "6  ...                       5                 5                 5   \n",
       "\n",
       "   Baggage handling  Checkin service  Inflight service  Cleanliness  \\\n",
       "0                 5                2                 5            5   \n",
       "1                 4                3                 4            5   \n",
       "4                 2                4                 2            4   \n",
       "5                 1                1                 2            5   \n",
       "6                 5                4                 5            3   \n",
       "\n",
       "   Departure Delay in Minutes  Arrival Delay in Minutes  satisfaction  \n",
       "0                          50                      44.0             1  \n",
       "1                           0                       0.0             1  \n",
       "4                           0                      20.0             1  \n",
       "5                           0                       0.0             1  \n",
       "6                           0                       0.0             1  \n",
       "\n",
       "[5 rows x 25 columns]"
      ]
     },
     "execution_count": 9,
     "metadata": {},
     "output_type": "execute_result"
    }
   ],
   "source": [
    "satData.head()"
   ]
  },
  {
   "cell_type": "code",
   "execution_count": 10,
   "id": "796e3a6e",
   "metadata": {},
   "outputs": [],
   "source": [
    "#creates percent dataframe\n",
    "def pctDf(feature, target, orgDf):\n",
    "    cool = satData[[feature,target]].copy()\n",
    "    new_df = cool.groupby(feature)[target].value_counts(normalize=True)\n",
    "    new_df = new_df.mul(100).rename('Percent').reset_index()\n",
    "    replace = {'satisfaction': {  1: 'satisfied',  0: 'neutral or dissatisfied'}}\n",
    "    new_df = new_df.replace(replace)\n",
    "    return new_df"
   ]
  },
  {
   "cell_type": "code",
   "execution_count": 11,
   "id": "949bc3e2",
   "metadata": {},
   "outputs": [],
   "source": [
    "def scatterDf(df, ylab):\n",
    "    replace = {'satisfaction': {  1: 'satisfied',  0: 'neutral or dissatisfied'}}\n",
    "    df = df.replace(replace)\n",
    "    g = sns.violinplot(data=df, x=\"satisfaction\", y= ylab, hue = 'satisfaction',ci = 'None', aspect = 1.5).set(title = ylab)\n",
    "    return g\n",
    "    "
   ]
  },
  {
   "cell_type": "code",
   "execution_count": 12,
   "id": "4cdec41c",
   "metadata": {},
   "outputs": [
    {
     "data": {
      "image/png": "[encoded data removed]",
      "text/plain": [
       "<Figure size 432x288 with 1 Axes>"
      ]
     },
     "metadata": {
      "needs_background": "light"
     },
     "output_type": "display_data"
    },
    {
     "name": "stdout",
     "output_type": "stream",
     "text": [
      "(119204, 25)\n"
     ]
    }
   ],
   "source": [
    "plt.show(scatterDf(satData, 'Flight Distance'))\n",
    "print(satData.shape)"
   ]
  },
  {
   "cell_type": "code",
   "execution_count": 13,
   "id": "4ecb86a1",
   "metadata": {
    "scrolled": true
   },
   "outputs": [
    {
     "data": {
      "image/png": "[encoded data removed]",
      "text/plain": [
       "<Figure size 432x288 with 1 Axes>"
      ]
     },
     "metadata": {
      "needs_background": "light"
     },
     "output_type": "display_data"
    },
    {
     "name": "stdout",
     "output_type": "stream",
     "text": [
      "(119204, 25)\n"
     ]
    }
   ],
   "source": [
    "plt.show(scatterDf(satData, 'Departure Delay in Minutes'))\n",
    "print(satData.shape)\n"
   ]
  },
  {
   "cell_type": "code",
   "execution_count": 14,
   "id": "8dc520f0",
   "metadata": {},
   "outputs": [
    {
     "data": {
      "image/png": "[encoded data removed]",
      "text/plain": [
       "<Figure size 432x288 with 1 Axes>"
      ]
     },
     "metadata": {
      "needs_background": "light"
     },
     "output_type": "display_data"
    },
    {
     "name": "stdout",
     "output_type": "stream",
     "text": [
      "(119204, 25)\n"
     ]
    }
   ],
   "source": [
    "plt.show(scatterDf(satData, 'Arrival Delay in Minutes'))\n",
    "print(satData.shape)\n"
   ]
  },
  {
   "cell_type": "code",
   "execution_count": 15,
   "id": "5fd3af41",
   "metadata": {},
   "outputs": [
    {
     "data": {
      "image/png": "[encoded data removed]",
      "text/plain": [
       "<Figure size 432x288 with 1 Axes>"
      ]
     },
     "metadata": {
      "needs_background": "light"
     },
     "output_type": "display_data"
    },
    {
     "name": "stdout",
     "output_type": "stream",
     "text": [
      "(119204, 25)\n"
     ]
    }
   ],
   "source": [
    "plt.show(scatterDf(satData, 'Age'))\n",
    "print(satData.shape)\n"
   ]
  },
  {
   "cell_type": "code",
   "execution_count": 16,
   "id": "c55701db",
   "metadata": {},
   "outputs": [],
   "source": [
    "def doaBGraph(df, xlab):\n",
    "    os.chdir(r'C:\\Users\\noaht\\Documents\\Data_Mining\\Project 2' +r'\\Graphs')\n",
    "    g = sns.catplot(x=xlab, y='Percent', hue= 'satisfaction',\n",
    "                data=df, saturation=.5,\n",
    "                kind=\"bar\", ci=None).set(title = xlab + ' Percentage')\n",
    "    try: \n",
    "        g.savefig(xlab + 'pct' + '.png')\n",
    "    except:\n",
    "        print(\"error could not save file column:  \" + xlab)\n",
    "    return g\n",
    "\n"
   ]
  },
  {
   "cell_type": "code",
   "execution_count": 17,
   "id": "8c02583c",
   "metadata": {},
   "outputs": [
    {
     "data": {
      "text/plain": [
       "Index(['Unnamed: 0', 'id', 'Gender', 'Customer Type', 'Age', 'Type of Travel',\n",
       "       'Class', 'Flight Distance', 'Inflight wifi service',\n",
       "       'Departure/Arrival time convenient', 'Ease of Online booking',\n",
       "       'Gate location', 'Food and drink', 'Online boarding', 'Seat comfort',\n",
       "       'Inflight entertainment', 'On-board service', 'Leg room service',\n",
       "       'Baggage handling', 'Checkin service', 'Inflight service',\n",
       "       'Cleanliness', 'Departure Delay in Minutes', 'Arrival Delay in Minutes',\n",
       "       'satisfaction'],\n",
       "      dtype='object')"
      ]
     },
     "execution_count": 17,
     "metadata": {},
     "output_type": "execute_result"
    }
   ],
   "source": [
    "satData.columns"
   ]
  },
  {
   "cell_type": "code",
   "execution_count": 18,
   "id": "e18eedaf",
   "metadata": {},
   "outputs": [],
   "source": [
    "ClassPct = pctDf('Class', 'satisfaction', satData)"
   ]
  },
  {
   "cell_type": "code",
   "execution_count": null,
   "id": "440b32d0",
   "metadata": {},
   "outputs": [],
   "source": []
  },
  {
   "cell_type": "code",
   "execution_count": 19,
   "id": "90c80338",
   "metadata": {},
   "outputs": [
    {
     "data": {
      "image/png": "[encoded data removed]",
      "text/plain": [
       "<Figure size 505.125x360 with 1 Axes>"
      ]
     },
     "metadata": {
      "needs_background": "light"
     },
     "output_type": "display_data"
    },
    {
     "name": "stdout",
     "output_type": "stream",
     "text": [
      "(119204, 25)\n"
     ]
    }
   ],
   "source": [
    "cool = doaBGraph(ClassPct, 'Class')\n",
    "plt.show(cool)\n",
    "print(satData.shape)\n",
    "cool.savefig('Classpct.png')"
   ]
  },
  {
   "cell_type": "code",
   "execution_count": 20,
   "id": "8ca00460",
   "metadata": {},
   "outputs": [
    {
     "data": {
      "image/png": "[encoded data removed]",
      "text/plain": [
       "<Figure size 505.125x360 with 1 Axes>"
      ]
     },
     "metadata": {
      "needs_background": "light"
     },
     "output_type": "display_data"
    },
    {
     "name": "stdout",
     "output_type": "stream",
     "text": [
      "(119204, 25)\n"
     ]
    }
   ],
   "source": [
    "InWifipct = pctDf('Inflight wifi service', 'satisfaction', satData)\n",
    "InwifiPlt = doaBGraph(InWifipct, 'Inflight wifi service')\n",
    "plt.show(InwifiPlt)\n",
    "print(satData.shape)\n"
   ]
  },
  {
   "cell_type": "code",
   "execution_count": 21,
   "id": "1b569f6d",
   "metadata": {},
   "outputs": [
    {
     "name": "stdout",
     "output_type": "stream",
     "text": [
      "error could not save file column:  Departure/Arrival time convenient\n"
     ]
    },
    {
     "data": {
      "image/png": "[encoded data removed]",
      "text/plain": [
       "<Figure size 505.125x360 with 1 Axes>"
      ]
     },
     "metadata": {
      "needs_background": "light"
     },
     "output_type": "display_data"
    }
   ],
   "source": [
    "Daparture_Arrivealpct = pctDf('Departure/Arrival time convenient', 'satisfaction', satData)\n",
    "Daparture_Arrivealpct = doaBGraph(Daparture_Arrivealpct, 'Departure/Arrival time convenient')\n",
    "plt.show(Daparture_Arrivealpct)"
   ]
  },
  {
   "cell_type": "code",
   "execution_count": 22,
   "id": "a2f32d9c",
   "metadata": {
    "scrolled": true
   },
   "outputs": [
    {
     "data": {
      "image/png": "[encoded data removed]",
      "text/plain": [
       "<Figure size 505.125x360 with 1 Axes>"
      ]
     },
     "metadata": {
      "needs_background": "light"
     },
     "output_type": "display_data"
    }
   ],
   "source": [
    "EaseOfOnlinepct = pctDf('Ease of Online booking', 'satisfaction', satData)\n",
    "EaseOfOnlinepct = doaBGraph(EaseOfOnlinepct, 'Ease of Online booking')\n",
    "plt.show(EaseOfOnlinepct)"
   ]
  },
  {
   "cell_type": "code",
   "execution_count": 23,
   "id": "5186d2e6",
   "metadata": {},
   "outputs": [
    {
     "data": {
      "image/png": "[encoded data removed]",
      "text/plain": [
       "<Figure size 505.125x360 with 1 Axes>"
      ]
     },
     "metadata": {
      "needs_background": "light"
     },
     "output_type": "display_data"
    }
   ],
   "source": [
    "Gatlocpct = pctDf('Gate location', 'satisfaction', satData)\n",
    "Gatlocpct = doaBGraph(Gatlocpct, 'Gate location')\n",
    "plt.show(Gatlocpct)"
   ]
  },
  {
   "cell_type": "code",
   "execution_count": 24,
   "id": "e2bfcbfe",
   "metadata": {},
   "outputs": [
    {
     "data": {
      "image/png": "[encoded data removed]",
      "text/plain": [
       "<Figure size 505.125x360 with 1 Axes>"
      ]
     },
     "metadata": {
      "needs_background": "light"
     },
     "output_type": "display_data"
    }
   ],
   "source": [
    "Foodpct = pctDf('Food and drink', 'satisfaction', satData)\n",
    "Foodpct = doaBGraph(Foodpct, 'Food and drink')\n",
    "plt.show(Foodpct)"
   ]
  },
  {
   "cell_type": "code",
   "execution_count": 25,
   "id": "fac7cd63",
   "metadata": {
    "scrolled": true
   },
   "outputs": [
    {
     "data": {
      "image/png": "[encoded data removed]",
      "text/plain": [
       "<Figure size 505.125x360 with 1 Axes>"
      ]
     },
     "metadata": {
      "needs_background": "light"
     },
     "output_type": "display_data"
    }
   ],
   "source": [
    "onlineboardpct = pctDf('Online boarding', 'satisfaction', satData)\n",
    "onlineboardpct = doaBGraph(onlineboardpct, 'Online boarding')\n",
    "plt.show(onlineboardpct)"
   ]
  },
  {
   "cell_type": "code",
   "execution_count": 26,
   "id": "68784ba7",
   "metadata": {},
   "outputs": [
    {
     "data": {
      "image/png": "[encoded data removed]",
      "text/plain": [
       "<Figure size 505.125x360 with 1 Axes>"
      ]
     },
     "metadata": {
      "needs_background": "light"
     },
     "output_type": "display_data"
    }
   ],
   "source": [
    "seatpct = pctDf('Seat comfort', 'satisfaction', satData)\n",
    "seatpct = doaBGraph(seatpct, 'Seat comfort')\n",
    "plt.show(seatpct)"
   ]
  },
  {
   "cell_type": "code",
   "execution_count": 27,
   "id": "737897fe",
   "metadata": {},
   "outputs": [
    {
     "data": {
      "image/png": "[encoded data removed]",
      "text/plain": [
       "<Figure size 505.125x360 with 1 Axes>"
      ]
     },
     "metadata": {
      "needs_background": "light"
     },
     "output_type": "display_data"
    }
   ],
   "source": [
    "InEnterpct = pctDf('Inflight entertainment', 'satisfaction', satData)\n",
    "InEnterpct = doaBGraph(InEnterpct, 'Inflight entertainment')\n",
    "plt.show(InEnterpct)"
   ]
  },
  {
   "cell_type": "code",
   "execution_count": 28,
   "id": "acdf27f9",
   "metadata": {},
   "outputs": [
    {
     "data": {
      "image/png": "[encoded data removed]",
      "text/plain": [
       "<Figure size 505.125x360 with 1 Axes>"
      ]
     },
     "metadata": {
      "needs_background": "light"
     },
     "output_type": "display_data"
    }
   ],
   "source": [
    "On_Boardpct = pctDf('On-board service', 'satisfaction', satData)\n",
    "On_Boardpct = doaBGraph(On_Boardpct, 'On-board service')\n",
    "plt.show(On_Boardpct)"
   ]
  },
  {
   "cell_type": "code",
   "execution_count": 29,
   "id": "9892b21f",
   "metadata": {},
   "outputs": [
    {
     "data": {
      "image/png": "[encoded data removed]",
      "text/plain": [
       "<Figure size 505.125x360 with 1 Axes>"
      ]
     },
     "metadata": {
      "needs_background": "light"
     },
     "output_type": "display_data"
    }
   ],
   "source": [
    "Legpct = pctDf('Leg room service', 'satisfaction', satData)\n",
    "Legpct = doaBGraph(Legpct, 'Leg room service')\n",
    "plt.show(Legpct)"
   ]
  },
  {
   "cell_type": "code",
   "execution_count": 30,
   "id": "36177d31",
   "metadata": {},
   "outputs": [
    {
     "data": {
      "image/png": "[encoded data removed]",
      "text/plain": [
       "<Figure size 505.125x360 with 1 Axes>"
      ]
     },
     "metadata": {
      "needs_background": "light"
     },
     "output_type": "display_data"
    }
   ],
   "source": [
    "BagHandpct = pctDf('Baggage handling', 'satisfaction', satData)\n",
    "BagHandpct = doaBGraph(BagHandpct, 'Baggage handling')\n",
    "plt.show(BagHandpct)"
   ]
  },
  {
   "cell_type": "code",
   "execution_count": 31,
   "id": "97ce6a64",
   "metadata": {},
   "outputs": [
    {
     "data": {
      "image/png": "[encoded data removed]",
      "text/plain": [
       "<Figure size 505.125x360 with 1 Axes>"
      ]
     },
     "metadata": {
      "needs_background": "light"
     },
     "output_type": "display_data"
    }
   ],
   "source": [
    "checkServepct = pctDf('Checkin service', 'satisfaction', satData)\n",
    "checkServepct = doaBGraph(checkServepct, 'Checkin service')\n",
    "plt.show(checkServepct)"
   ]
  },
  {
   "cell_type": "code",
   "execution_count": 32,
   "id": "63cce821",
   "metadata": {},
   "outputs": [
    {
     "data": {
      "image/png": "[encoded data removed]",
      "text/plain": [
       "<Figure size 505.125x360 with 1 Axes>"
      ]
     },
     "metadata": {
      "needs_background": "light"
     },
     "output_type": "display_data"
    }
   ],
   "source": [
    "Inflightpct = pctDf('Inflight service', 'satisfaction', satData)\n",
    "Inflightpct = doaBGraph(Inflightpct, 'Inflight service')\n",
    "plt.show(Inflightpct)"
   ]
  },
  {
   "cell_type": "code",
   "execution_count": 33,
   "id": "21bbd3aa",
   "metadata": {
    "scrolled": true
   },
   "outputs": [
    {
     "data": {
      "image/png": "[encoded data removed]",
      "text/plain": [
       "<Figure size 505.125x360 with 1 Axes>"
      ]
     },
     "metadata": {
      "needs_background": "light"
     },
     "output_type": "display_data"
    }
   ],
   "source": [
    "Cleanpct = pctDf('Cleanliness', 'satisfaction', satData)\n",
    "Cleanpct = doaBGraph(Cleanpct, 'Cleanliness')\n",
    "plt.show(Cleanpct)"
   ]
  },
  {
   "cell_type": "code",
   "execution_count": 34,
   "id": "e1309115",
   "metadata": {
    "scrolled": true
   },
   "outputs": [
    {
     "data": {
      "image/png": "[encoded data removed]",
      "text/plain": [
       "<Figure size 505.125x360 with 1 Axes>"
      ]
     },
     "metadata": {
      "needs_background": "light"
     },
     "output_type": "display_data"
    }
   ],
   "source": [
    "CutstTypepct = pctDf('Customer Type', 'satisfaction', satData)\n",
    "CutstTypepct = doaBGraph(CutstTypepct, 'Customer Type')\n",
    "plt.show(CutstTypepct)"
   ]
  },
  {
   "cell_type": "code",
   "execution_count": 35,
   "id": "d1a83c92",
   "metadata": {},
   "outputs": [
    {
     "data": {
      "image/png": "[encoded data removed]",
      "text/plain": [
       "<Figure size 505.125x360 with 1 Axes>"
      ]
     },
     "metadata": {
      "needs_background": "light"
     },
     "output_type": "display_data"
    }
   ],
   "source": [
    "\t\n",
    "TypeTravpct = pctDf('Type of Travel', 'satisfaction', satData)\n",
    "TypeTravpct = doaBGraph(TypeTravpct, 'Type of Travel')\n",
    "plt.show(TypeTravpct)"
   ]
  },
  {
   "cell_type": "code",
   "execution_count": 36,
   "id": "4d18050d",
   "metadata": {},
   "outputs": [
    {
     "data": {
      "image/png": "[encoded data removed]",
      "text/plain": [
       "<Figure size 505.125x360 with 1 Axes>"
      ]
     },
     "metadata": {
      "needs_background": "light"
     },
     "output_type": "display_data"
    }
   ],
   "source": [
    "genderpct = pctDf('Gender', 'satisfaction', satData)\n",
    "genderpct = doaBGraph(genderpct, 'Gender')\n",
    "plt.show(genderpct)"
   ]
  },
  {
   "cell_type": "code",
   "execution_count": null,
   "id": "58bd2763",
   "metadata": {},
   "outputs": [],
   "source": [
    "\n"
   ]
  },
  {
   "cell_type": "markdown",
   "id": "29799cea",
   "metadata": {},
   "source": [
    "### Start of Machine Learning Stuff "
   ]
  },
  {
   "cell_type": "code",
   "execution_count": 37,
   "id": "336662ba",
   "metadata": {},
   "outputs": [],
   "source": [
    "m_df = satData"
   ]
  },
  {
   "cell_type": "code",
   "execution_count": 38,
   "id": "e459911e",
   "metadata": {},
   "outputs": [],
   "source": [
    "m_df.to_csv((os.getcwd() + r'\\filtAirdata.csv'), index = False)"
   ]
  },
  {
   "cell_type": "code",
   "execution_count": 39,
   "id": "54da90be",
   "metadata": {},
   "outputs": [
    {
     "data": {
      "text/plain": [
       "(119204, 25)"
      ]
     },
     "execution_count": 39,
     "metadata": {},
     "output_type": "execute_result"
    }
   ],
   "source": [
    "m_df.shape"
   ]
  },
  {
   "cell_type": "markdown",
   "id": "cc1483e2",
   "metadata": {},
   "source": [
    "# Didn't use anything below this "
   ]
  },
  {
   "cell_type": "code",
   "execution_count": 40,
   "id": "3e2e8a7d",
   "metadata": {},
   "outputs": [
    {
     "data": {
      "text/plain": [
       "(119204, 25)"
      ]
     },
     "execution_count": 40,
     "metadata": {},
     "output_type": "execute_result"
    }
   ],
   "source": [
    "m_df['Gender']=m_df['Gender'].astype('category').cat.codes\n",
    "m_df['Customer Type']=m_df['Customer Type'].astype('category').cat.codes\n",
    "m_df['Class']=m_df['Class'].astype('category').cat.codes\n",
    "m_df['Type of Travel']=m_df['Type of Travel'].astype('category').cat.codes\n",
    "\n",
    "m_df.shape"
   ]
  },
  {
   "cell_type": "code",
   "execution_count": 41,
   "id": "e7f9fc5e",
   "metadata": {},
   "outputs": [],
   "source": [
    "def dropUnCorr(df, compareCol, threshold):\n",
    "    new_df = df.drop(compareCol, 1)\n",
    "    correlation = new_df.corrwith(df[compareCol])\n",
    "    correlation = correlation.abs().mul(100)\n",
    "    tempList = list(new_df.columns)\n",
    "    for i in range(len(correlation)):\n",
    "        if correlation[i] < threshold:\n",
    "            del df[tempList[i]]\n",
    "             \n",
    "    return [df,correlation]"
   ]
  },
  {
   "cell_type": "code",
   "execution_count": 42,
   "id": "61eaa7d6",
   "metadata": {
    "scrolled": true
   },
   "outputs": [
    {
     "name": "stdout",
     "output_type": "stream",
     "text": [
      "(119204, 25)\n"
     ]
    },
    {
     "name": "stderr",
     "output_type": "stream",
     "text": [
      "C:\\Users\\noaht\\AppData\\Local\\Temp/ipykernel_14036/2640527426.py:1: FutureWarning: In a future version of pandas all arguments of DataFrame.drop except for the argument 'labels' will be keyword-only\n",
      "  Correlation = m_df.drop('satisfaction', 1).corrwith(m_df.satisfaction)\n",
      "C:\\Users\\noaht\\AppData\\Local\\Temp/ipykernel_14036/2442886811.py:2: FutureWarning: In a future version of pandas all arguments of DataFrame.drop except for the argument 'labels' will be keyword-only\n",
      "  new_df = df.drop(compareCol, 1)\n"
     ]
    }
   ],
   "source": [
    "Correlation = m_df.drop('satisfaction', 1).corrwith(m_df.satisfaction)\n",
    "Correlation = Correlation.abs().mul(100)\n",
    "dope = list(m_df.columns)\n",
    "cool = m_df\n",
    "print(cool.shape)\n",
    "x = dropUnCorr(cool,'satisfaction', 10)"
   ]
  },
  {
   "cell_type": "code",
   "execution_count": 43,
   "id": "e26c6fb7",
   "metadata": {},
   "outputs": [],
   "source": [
    "datCor = x[1]\n",
    "cor_df = x[0]\n",
    "\n"
   ]
  },
  {
   "cell_type": "code",
   "execution_count": 44,
   "id": "194a871e",
   "metadata": {},
   "outputs": [
    {
     "name": "stdout",
     "output_type": "stream",
     "text": [
      "18\n",
      "24\n"
     ]
    }
   ],
   "source": [
    "data = {'Data': list(cor_df.columns), 'Correlation': list(datCor)}\n",
    "print(len(data['Data']))\n",
    "print(len(data['Correlation']))"
   ]
  }
 ],
 "metadata": {
  "kernelspec": {
   "display_name": "Python 3 (ipykernel)",
   "language": "python",
   "name": "python3"
  },
  "language_info": {
   "codemirror_mode": {
    "name": "ipython",
    "version": 3
   },
   "file_extension": ".py",
   "mimetype": "text/x-python",
   "name": "python",
   "nbconvert_exporter": "python",
   "pygments_lexer": "ipython3",
   "version": "3.9.7"
  }
 },
 "nbformat": 4,
 "nbformat_minor": 5
}
